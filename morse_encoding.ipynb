{
 "cells": [
  {
   "cell_type": "code",
   "execution_count": 7,
   "id": "94090edb",
   "metadata": {},
   "outputs": [],
   "source": [
    "MORSE_CODE_DICT = { 'A':'.-', 'B':'-...',\n",
    "                    'C':'-.-.', 'D':'-..', 'E':'.',\n",
    "                    'F':'..-.', 'G':'--.', 'H':'....',\n",
    "                    'I':'..', 'J':'.---', 'K':'-.-',\n",
    "                    'L':'.-..', 'M':'--', 'N':'-.',\n",
    "                    'O':'---', 'P':'.--.', 'Q':'--.-',\n",
    "                    'R':'.-.', 'S':'...', 'T':'-',\n",
    "                    'U':'..-', 'V':'...-', 'W':'.--',\n",
    "                    'X':'-..-', 'Y':'-.--', 'Z':'--..',\n",
    "                    '1':'.----', '2':'..---', '3':'...--',\n",
    "                    '4':'....-', '5':'.....', '6':'-....',\n",
    "                    '7':'--...', '8':'---..', '9':'----.',\n",
    "                    '0':'-----', ', ':'--..--', '.':'.-.-.-',\n",
    "                    '?':'..--..', '/':'-..-.', '-':'-....-',\n",
    "                    '(':'-.--.', ')':'-.--.-'}"
   ]
  },
  {
   "cell_type": "code",
   "execution_count": 8,
   "id": "67ff7d6e",
   "metadata": {},
   "outputs": [],
   "source": [
    "#method for encrpting\n",
    "\n",
    "def encrpyt_mess(mes):\n",
    "    char = \"\"\n",
    "    for i in mes:\n",
    "        if i != ' ':\n",
    "            morse = MORSE_CODE_DICT[i]\n",
    "            char += morse + ' '\n",
    "        else:\n",
    "            print('space')\n",
    "    print(char)"
   ]
  },
  {
   "cell_type": "code",
   "execution_count": 9,
   "id": "722f8cf1",
   "metadata": {},
   "outputs": [
    {
     "name": "stdout",
     "output_type": "stream",
     "text": [
      "... --- ... \n"
     ]
    }
   ],
   "source": [
    "encrpyt_mess('SOS')"
   ]
  },
  {
   "cell_type": "code",
   "execution_count": 12,
   "id": "edde2916",
   "metadata": {},
   "outputs": [
    {
     "name": "stdout",
     "output_type": "stream",
     "text": [
      "HELPME\n"
     ]
    }
   ],
   "source": [
    "# Decoding method\n",
    "\n",
    "def decode_text(code):\n",
    "    char = \"\"\n",
    "    mes = \"\"\n",
    "    for i in code:\n",
    "        if i != ' ':\n",
    "            char += i\n",
    "        else:\n",
    "            for key in MORSE_CODE_DICT:\n",
    "                value = MORSE_CODE_DICT[key]\n",
    "                if value == char:\n",
    "                    mes += key\n",
    "            char = \"\"\n",
    "    print(mes)\n",
    "        \n",
    "decode_text(\".-..-. .... . .-.. .--. / -- . / -.-.-- .-..-.\")"
   ]
  },
  {
   "cell_type": "code",
   "execution_count": null,
   "id": "4c07671a",
   "metadata": {},
   "outputs": [],
   "source": []
  }
 ],
 "metadata": {
  "kernelspec": {
   "display_name": "Python 3",
   "language": "python",
   "name": "python3"
  },
  "language_info": {
   "codemirror_mode": {
    "name": "ipython",
    "version": 3
   },
   "file_extension": ".py",
   "mimetype": "text/x-python",
   "name": "python",
   "nbconvert_exporter": "python",
   "pygments_lexer": "ipython3",
   "version": "3.8.8"
  }
 },
 "nbformat": 4,
 "nbformat_minor": 5
}
