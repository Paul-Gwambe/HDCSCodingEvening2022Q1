{
 "cells": [
  {
   "cell_type": "code",
   "execution_count": 5,
   "id": "c1ce90cc",
   "metadata": {},
   "outputs": [
    {
     "name": "stdout",
     "output_type": "stream",
     "text": [
      "Please select an option by entering the menu number: \n",
      " 1 Encrypt to Morse Code \n",
      " 2. Decrypt from Morse Code \n",
      " 0. Exit2\n",
      "Input Morse Code to decrpyt:\".-..-. .... . .-.. .--. / -- . / -.-.-- .-..-.\"\n",
      "HELP ME \n"
     ]
    }
   ],
   "source": [
    "form  =  int(input('Please select an option by entering the menu number: \\n 1 Encrypt to Morse Code \\n 2. Decrypt from Morse Code \\n 0. Exit'))\n",
    "\n",
    "MORSE_CODE_DICT = { 'A':'.-', 'B':'-...',\n",
    "                    'C':'-.-.', 'D':'-..', 'E':'.',\n",
    "                    'F':'..-.', 'G':'--.', 'H':'....',\n",
    "                    'I':'..', 'J':'.---', 'K':'-.-',\n",
    "                    'L':'.-..', 'M':'--', 'N':'-.',\n",
    "                    'O':'---', 'P':'.--.', 'Q':'--.-',\n",
    "                    'R':'.-.', 'S':'...', 'T':'-',\n",
    "                    'U':'..-', 'V':'...-', 'W':'.--',\n",
    "                    'X':'-..-', 'Y':'-.--', 'Z':'--..',\n",
    "                    '1':'.----', '2':'..---', '3':'...--',\n",
    "                    '4':'....-', '5':'.....', '6':'-....',\n",
    "                    '7':'--...', '8':'---..', '9':'----.',\n",
    "                    '0':'-----', ', ':'--..--', '.':'.-.-.-',\n",
    "                    '?':'..--..', '/':'-..-.', '-':'-....-',\n",
    "                    '(':'-.--.', ')':'-.--.-'}\n",
    "\n",
    "if form == 1:\n",
    "    text = input('Input text to encrypt:')\n",
    "    #method for encrpting\n",
    "\n",
    "    def encrpyt_mess(mes):\n",
    "        char = \"\"\n",
    "        for i in mes:\n",
    "            if i != ' ':\n",
    "                morse = MORSE_CODE_DICT[i]\n",
    "                char += morse \n",
    "            else:\n",
    "                char += \"/\"\n",
    "                \n",
    "        print(char)\n",
    "    encrpyt_mess(text)\n",
    "    \n",
    "elif form == 2:\n",
    "    text = input('Input Morse Code to decrpyt:')\n",
    "    # Decoding method\n",
    "\n",
    "    def decode_text(code):\n",
    "        char = \"\"\n",
    "        mes = \"\"\n",
    "        for i in code:\n",
    "            if i != ' ':\n",
    "                char += i\n",
    "            else:\n",
    "                for key in MORSE_CODE_DICT:\n",
    "                    value = MORSE_CODE_DICT[key]\n",
    "                    if value == char:\n",
    "                        mes += key\n",
    "                if char == \"/\":\n",
    "                    mes += \" \"\n",
    "                char = \"\"\n",
    "        print(mes)\n",
    "    decode_text(text)\n",
    "    #decode_text(\".-..-. .... . .-.. .--. / -- . / -.-.-- .-..-.\")\n",
    "else:\n",
    "    print('Exiting, goodbye!')\n"
   ]
  },
  {
   "cell_type": "code",
   "execution_count": null,
   "id": "078e4433",
   "metadata": {},
   "outputs": [],
   "source": []
  },
  {
   "cell_type": "code",
   "execution_count": null,
   "id": "6549863f",
   "metadata": {},
   "outputs": [],
   "source": []
  }
 ],
 "metadata": {
  "kernelspec": {
   "display_name": "Python 3",
   "language": "python",
   "name": "python3"
  },
  "language_info": {
   "codemirror_mode": {
    "name": "ipython",
    "version": 3
   },
   "file_extension": ".py",
   "mimetype": "text/x-python",
   "name": "python",
   "nbconvert_exporter": "python",
   "pygments_lexer": "ipython3",
   "version": "3.8.8"
  }
 },
 "nbformat": 4,
 "nbformat_minor": 5
}
